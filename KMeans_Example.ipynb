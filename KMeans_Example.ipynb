{
  "nbformat": 4,
  "nbformat_minor": 0,
  "metadata": {
    "colab": {
      "name": "KMeans_Example.ipynb",
      "provenance": [],
      "collapsed_sections": [],
      "authorship_tag": "ABX9TyM8Dxuy6r/Q5Fgv747T77OK",
      "include_colab_link": true
    },
    "kernelspec": {
      "name": "python3",
      "display_name": "Python 3"
    }
  },
  "cells": [
    {
      "cell_type": "markdown",
      "metadata": {
        "id": "view-in-github",
        "colab_type": "text"
      },
      "source": [
        "<a href=\"https://colab.research.google.com/github/sudhir2016/KMeans_Example/blob/master/KMeans_Example.ipynb\" target=\"_parent\"><img src=\"https://colab.research.google.com/assets/colab-badge.svg\" alt=\"Open In Colab\"/></a>"
      ]
    },
    {
      "cell_type": "markdown",
      "metadata": {
        "id": "5-TauXyp7nvu",
        "colab_type": "text"
      },
      "source": [
        "Import various libraries."
      ]
    },
    {
      "cell_type": "code",
      "metadata": {
        "id": "KeeWZXrN7kA2",
        "colab_type": "code",
        "colab": {}
      },
      "source": [
        "import numpy as np\n",
        "import pandas as pd\n",
        "import matplotlib.pyplot as plt\n",
        "from sklearn.cluster import KMeans"
      ],
      "execution_count": 2,
      "outputs": []
    },
    {
      "cell_type": "markdown",
      "metadata": {
        "id": "7m7JdZ4a8FtI",
        "colab_type": "text"
      },
      "source": [
        "Load Iris dataset"
      ]
    },
    {
      "cell_type": "code",
      "metadata": {
        "id": "5Nril5-A8v0O",
        "colab_type": "code",
        "colab": {}
      },
      "source": [
        "df=pd.read_csv('iris.data')"
      ],
      "execution_count": 4,
      "outputs": []
    },
    {
      "cell_type": "markdown",
      "metadata": {
        "id": "HLmJgBzZ8-Ts",
        "colab_type": "text"
      },
      "source": [
        "Load all Iris dataset values into an array."
      ]
    },
    {
      "cell_type": "code",
      "metadata": {
        "id": "_t3a6eYR9m7h",
        "colab_type": "code",
        "colab": {}
      },
      "source": [
        "x = df.iloc[:, [0,1,2,3]].values"
      ],
      "execution_count": 5,
      "outputs": []
    },
    {
      "cell_type": "markdown",
      "metadata": {
        "id": "a5abS5Rl9rBw",
        "colab_type": "text"
      },
      "source": [
        "Define number of clusters for KMean as 3"
      ]
    },
    {
      "cell_type": "code",
      "metadata": {
        "id": "ujCJisyT-F2y",
        "colab_type": "code",
        "colab": {}
      },
      "source": [
        "k=KMeans(n_clusters=3)"
      ],
      "execution_count": 6,
      "outputs": []
    },
    {
      "cell_type": "markdown",
      "metadata": {
        "id": "EGsQbnTA-X_2",
        "colab_type": "text"
      },
      "source": [
        "Run KMeans to sort the data into 3 clusters"
      ]
    },
    {
      "cell_type": "code",
      "metadata": {
        "id": "lhlOmgE7-jIS",
        "colab_type": "code",
        "colab": {}
      },
      "source": [
        "y=k.fit_predict(x)"
      ],
      "execution_count": 7,
      "outputs": []
    },
    {
      "cell_type": "markdown",
      "metadata": {
        "id": "0Y7VhRcw-vXL",
        "colab_type": "text"
      },
      "source": [
        "Visualize the clusters on a scatter plot."
      ]
    },
    {
      "cell_type": "code",
      "metadata": {
        "id": "c9srOOgv-7RW",
        "colab_type": "code",
        "colab": {}
      },
      "source": [
        "plt.scatter(x[:,0],x[:,1],c=y,cmap='rainbow')"
      ],
      "execution_count": null,
      "outputs": []
    }
  ]
}